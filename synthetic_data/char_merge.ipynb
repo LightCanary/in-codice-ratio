{
 "cells": [
  {
   "cell_type": "code",
   "execution_count": 8,
   "metadata": {},
   "outputs": [
    {
     "data": {
      "image/png": "[encoded data removed]",
      "text/plain": [
       "<matplotlib.figure.Figure at 0x7f349167dbe0>"
      ]
     },
     "metadata": {},
     "output_type": "display_data"
    },
    {
     "data": {
      "image/png": "[encoded data removed]",
      "text/plain": [
       "<matplotlib.figure.Figure at 0x7f34915e1a90>"
      ]
     },
     "metadata": {},
     "output_type": "display_data"
    }
   ],
   "source": [
    "from PIL import Image\n",
    "import matplotlib.pyplot as plt\n",
    "#import matplotlib.image as pltimg\n",
    "from random import sample\n",
    "import os\n",
    "import numpy as np\n",
    "\n",
    "\n",
    "dataset_folder = '/home/eris/Dropbox/original_samples/'\n",
    "\n",
    "characters = os.listdir(dataset_folder)\n",
    "characters.remove('.dropbox')\n",
    "\n",
    "dataset_filenames = {char: [dataset_folder+char+'/'+f for f in os.listdir(dataset_folder+char)] for char in characters}\n",
    "\n",
    "word = 'raff'\n",
    "images = []\n",
    "\n",
    "%matplotlib inline\n",
    "plt.figure()\n",
    "for i,c in enumerate(word):\n",
    "    s = sample(dataset_filenames[c], 1)\n",
    "    img = Image.open(s[0])\n",
    "    images.append(img)\n",
    "    plt.subplot(2, len(word), i + 1)\n",
    "    plt.imshow(np.asarray(img), cmap='gray')\n",
    "plt.show()\n",
    "\n",
    "width, height = 34*len(word), 56\n",
    "\n",
    "blank = Image.new('L', (width, height), color=255)\n",
    "\n",
    "for i,image in enumerate(images):\n",
    "    blank.paste(image, (34*i,0))\n",
    "\n",
    "plt.imshow(np.asarray(blank), cmap='gray')\n",
    "plt.show()\n",
    "    \n",
    "\n",
    "\n"
   ]
  },
  {
   "cell_type": "code",
   "execution_count": null,
   "metadata": {
    "collapsed": true
   },
   "outputs": [],
   "source": []
  }
 ],
 "metadata": {
  "kernelspec": {
   "display_name": "Python [conda env:syndata]",
   "language": "python",
   "name": "conda-env-syndata-py"
  },
  "language_info": {
   "codemirror_mode": {
    "name": "ipython",
    "version": 3
   },
   "file_extension": ".py",
   "mimetype": "text/x-python",
   "name": "python",
   "nbconvert_exporter": "python",
   "pygments_lexer": "ipython3",
   "version": "3.6.3"
  }
 },
 "nbformat": 4,
 "nbformat_minor": 2
}

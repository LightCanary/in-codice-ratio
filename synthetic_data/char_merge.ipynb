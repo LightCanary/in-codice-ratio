{
 "cells": [
  {
   "cell_type": "code",
   "execution_count": 2,
   "metadata": {},
   "outputs": [
    {
     "data": {
      "image/png": "[encoded data removed]",
      "text/plain": [
       "<matplotlib.figure.Figure at 0x7f0a4c106b70>"
      ]
     },
     "metadata": {},
     "output_type": "display_data"
    },
    {
     "data": {
      "image/png": "[encoded data removed]",
      "text/plain": [
       "<matplotlib.figure.Figure at 0x7f0a505c4b70>"
      ]
     },
     "metadata": {},
     "output_type": "display_data"
    }
   ],
   "source": [
    "import matplotlib.pyplot as plt\n",
    "from random import sample\n",
    "import os\n",
    "import numpy as np\n",
    "import cv2\n",
    "\n",
    "\n",
    "dataset_folder = '/home/eris/Dropbox/original_samples/'\n",
    "\n",
    "characters = os.listdir(dataset_folder)\n",
    "characters.remove('.dropbox')\n",
    "\n",
    "dataset_filenames = {char: [dataset_folder+char+'/'+f for f in os.listdir(dataset_folder+char)] for char in characters}\n",
    "\n",
    "word = 'sso'\n",
    "images = []\n",
    "\n",
    "%matplotlib inline\n",
    "plt.figure()\n",
    "for i,c in enumerate(word):\n",
    "    if c == 's':\n",
    "        if i < len(word)-1:\n",
    "            c = 's_alta'\n",
    "        else:\n",
    "            c = sample(['s_alta', 's_mediana', 's_bassa'], 1)[0]\n",
    "    if c == 'd':\n",
    "        c = sample(['d_alta', 'd_mediana'],1)[0]\n",
    "        \n",
    "    s = sample(dataset_filenames[c], 1)\n",
    "    img = cv2.imread(s[0], cv2.IMREAD_GRAYSCALE)\n",
    "    \n",
    "    comp_n, labels, stats, centroids = cv2.connectedComponentsWithStats(cv2.bitwise_not(img))\n",
    "    stats = sorted(stats, key=lambda s: s[4])\n",
    "    \n",
    "    char_x, char_y, char_w, char_h, char_a = stats[-2]\n",
    "    \n",
    "    images.append(img[char_y:char_y+char_h,char_x:char_x+char_w])\n",
    "    plt.subplot(2, len(word), i + 1)\n",
    "    plt.imshow(img, cmap='gray')\n",
    "plt.show()\n",
    "\n",
    "width, height = np.sum([img.shape[1] for img in images]), np.max([img.shape[0] for img in images])*2\n",
    "\n",
    "blank = np.ones((height, width), dtype='uint8')*255\n",
    "\n",
    "for i,image in enumerate(images):\n",
    "    start_x = int(np.sum([i.shape[1] for i in images[:i]]))\n",
    "    end_x = start_x + image.shape[1]\n",
    "    blank[:image.shape[0],start_x:end_x] = cv2.bitwise_and(blank[:image.shape[0],start_x:end_x], image)\n",
    "\n",
    "plt.imshow(np.asarray(blank), cmap='gray')\n",
    "plt.show()\n",
    "    \n",
    "\n",
    "\n"
   ]
  },
  {
   "cell_type": "code",
   "execution_count": null,
   "metadata": {
    "collapsed": true
   },
   "outputs": [],
   "source": []
  }
 ],
 "metadata": {
  "kernelspec": {
   "display_name": "Python [conda env:syndata]",
   "language": "python",
   "name": "conda-env-syndata-py"
  },
  "language_info": {
   "codemirror_mode": {
    "name": "ipython",
    "version": 3
   },
   "file_extension": ".py",
   "mimetype": "text/x-python",
   "name": "python",
   "nbconvert_exporter": "python",
   "pygments_lexer": "ipython3",
   "version": "3.6.3"
  }
 },
 "nbformat": 4,
 "nbformat_minor": 2
}
